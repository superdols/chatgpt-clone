{
 "cells": [
  {
   "cell_type": "code",
   "execution_count": null,
   "id": "2aaac72c",
   "metadata": {},
   "outputs": [],
   "source": [
    "from agents import Agent, Runner, SQLiteSession\n",
    "\n",
    "session = SQLiteSession(\"user_1\", \"ai-memory.db\")\n",
    "\n",
    "geography_agent = Agent(\n",
    "    name=\"Geo Expert Agent\",\n",
    "    instructions=\"You are a expert in geography, you answer questions related to them.\",\n",
    "    handoff_description=\"Use this to answer geography related questions.\"\n",
    ")\n",
    "\n",
    "economics_agent = Agent(\n",
    "    name=\"Economics Expert Agent\",\n",
    "    instructions=\"You are a expert in economics, you answer questions related to them.\",\n",
    "    handoff_description=\"Use this to anser economics questions.\"\n",
    ")\n",
    "\n",
    "\n",
    "main_agent = Agent(\n",
    "    name=\"Main Agent\",\n",
    "    instructions=\"You are a facing agnet. Transfer to the agent most capable of answering the user's  quesiton.\",\n",
    "    handoffs=[\n",
    "        economics_agent, geography_agent\n",
    "    ]\n",
    ")"
   ]
  },
  {
   "cell_type": "code",
   "execution_count": null,
   "id": "aba8b1d4",
   "metadata": {},
   "outputs": [
    {
     "name": "stdout",
     "output_type": "stream",
     "text": [
      "Your name is Kihun.\n"
     ]
    }
   ],
   "source": [
    "result = await Runner.run(\n",
    "    main_agent, \n",
    "    \"What \",\n",
    "    session=session,\n",
    ")\n",
    "\n",
    "print(result.last_agent.name)\n",
    "print(result.final_output)"
   ]
  }
 ],
 "metadata": {
  "kernelspec": {
   "display_name": "chatgpt-clone (3.13.7)",
   "language": "python",
   "name": "python3"
  },
  "language_info": {
   "codemirror_mode": {
    "name": "ipython",
    "version": 3
   },
   "file_extension": ".py",
   "mimetype": "text/x-python",
   "name": "python",
   "nbconvert_exporter": "python",
   "pygments_lexer": "ipython3",
   "version": "3.13.7"
  }
 },
 "nbformat": 4,
 "nbformat_minor": 5
}
