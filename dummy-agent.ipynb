{
 "cells": [
  {
   "cell_type": "code",
   "execution_count": 2,
   "id": "2aaac72c",
   "metadata": {},
   "outputs": [],
   "source": [
    "from agents import Agent, Runner, function_tool, SQLiteSession\n",
    "\n",
    "session = SQLiteSession(\"user_1\", \"ai-memory.db\")\n",
    "\n",
    "@function_tool\n",
    "def get_weather(city: str):\n",
    "    \"\"\"Get weather by city\"\"\"\n",
    "    return \"30 degrees\"\n",
    "\n",
    "\n",
    "agent = Agent(\n",
    "    name=\"Assistant Agent\",\n",
    "    instructions=\"You are a helpful assistant. Use tools when needed to answer questions\",\n",
    "    tools=[get_weather],\n",
    ")"
   ]
  },
  {
   "cell_type": "code",
   "execution_count": 6,
   "id": "aba8b1d4",
   "metadata": {},
   "outputs": [
    {
     "name": "stdout",
     "output_type": "stream",
     "text": [
      "Your name is Kihun.\n"
     ]
    }
   ],
   "source": [
    "result = await Runner.run(\n",
    "    agent, \"What was my name?\",\n",
    "    session=session,\n",
    ")\n",
    "\n",
    "print(result.final_output)"
   ]
  }
 ],
 "metadata": {
  "kernelspec": {
   "display_name": "chatgpt-clone (3.13.7)",
   "language": "python",
   "name": "python3"
  },
  "language_info": {
   "codemirror_mode": {
    "name": "ipython",
    "version": 3
   },
   "file_extension": ".py",
   "mimetype": "text/x-python",
   "name": "python",
   "nbconvert_exporter": "python",
   "pygments_lexer": "ipython3",
   "version": "3.13.7"
  }
 },
 "nbformat": 4,
 "nbformat_minor": 5
}
